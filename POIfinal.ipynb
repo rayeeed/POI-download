{
  "nbformat": 4,
  "nbformat_minor": 0,
  "metadata": {
    "colab": {
      "name": "POIfinal.ipynb",
      "provenance": [],
      "collapsed_sections": [],
      "include_colab_link": true
    },
    "kernelspec": {
      "name": "python3",
      "display_name": "Python 3"
    },
    "language_info": {
      "name": "python"
    }
  },
  "cells": [
    {
      "cell_type": "markdown",
      "metadata": {
        "id": "view-in-github",
        "colab_type": "text"
      },
      "source": [
        "<a href=\"https://colab.research.google.com/github/rayeeed/POI-download/blob/main/POIfinal.ipynb\" target=\"_parent\"><img src=\"https://colab.research.google.com/assets/colab-badge.svg\" alt=\"Open In Colab\"/></a>"
      ]
    },
    {
      "cell_type": "code",
      "metadata": {
        "id": "x7af84mGgett"
      },
      "source": [
        "import pandas as pd, numpy as np\n",
        "import requests\n",
        "import json\n",
        "import time\n",
        "from google.colab import files"
      ],
      "execution_count": null,
      "outputs": []
    },
    {
      "cell_type": "code",
      "metadata": {
        "id": "AEDLodOWNR9i"
      },
      "source": [
        "coordinates=[]\n",
        "all_loc = pd.read_csv('/content/dhaka-pt3.csv')\n",
        "all_loc['lat&long'] = all_loc['lat&long'].str.replace(\"'\",\"\")\n",
        "coordinates = list(all_loc['lat&long'])"
      ],
      "execution_count": null,
      "outputs": []
    },
    {
      "cell_type": "code",
      "metadata": {
        "id": "Ui4XHabdhpHa"
      },
      "source": [
        "final_data = []\n",
        "export_dataframe_market_medium=pd.DataFrame()\n",
        "# Parameters\n",
        "keywords = ['market']\n",
        "radius = '150'\n",
        "api_key = '' #insert your Places API\n"
      ],
      "execution_count": null,
      "outputs": []
    },
    {
      "cell_type": "code",
      "metadata": {
        "id": "HIej-MEysnwI"
      },
      "source": [
        "for coordinate in coordinates:\n",
        "    for keyword in keywords:\n",
        "        url = 'https://maps.googleapis.com/maps/api/place/nearbysearch/json?location='+coordinate+'&radius='+str(radius)+'&keyword='+str(keyword)+'&key='+str(api_key)\n",
        "        while True:\n",
        "          print(url)\n",
        "          respon = requests.get(url)\n",
        "          jj = json.loads(respon.text)\n",
        "          results = jj['results']\n",
        "          for result in results:\n",
        "              name = result['name']\n",
        "              place_id = result ['place_id']\n",
        "              lat = result['geometry']['location']['lat']              \n",
        "              lng = result['geometry']['location']['lng']\n",
        "              data = [name, place_id, lat, lng]\n",
        "              final_data.append(data)\n",
        "                      \n",
        "          time.sleep(5)\n",
        "          if 'next_page_token' not in jj:\n",
        "              break\n",
        "          else:\n",
        "              next_page_token = jj['next_page_token']\n",
        "              url = 'https://maps.googleapis.com/maps/api/place/nearbysearch/json?key='+str(api_key)+'&pagetoken='+str(next_page_token)\n",
        "          \n",
        "          labels = ['Place Name', 'Place ID', 'Latitude', 'Longitude']\n",
        "          export_dataframe_market_medium = pd.DataFrame.from_records(final_data, columns=labels)\n",
        "export_dataframe_market_medium.to_csv('export_dataframe_market_medium.csv')"
      ],
      "execution_count": null,
      "outputs": []
    },
    {
      "cell_type": "code",
      "source": [
        "export_dataframe_restaurant_medium.to_csv('export_dataframe_restaurant_medium.csv')"
      ],
      "metadata": {
        "id": "6S16x-L_U64V"
      },
      "execution_count": null,
      "outputs": []
    }
  ]
}